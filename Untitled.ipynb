{
 "cells": [
  {
   "cell_type": "code",
   "execution_count": 6,
   "id": "335b2c51-913d-48a8-98fe-3ecd59697b9a",
   "metadata": {},
   "outputs": [
    {
     "name": "stdout",
     "output_type": "stream",
     "text": [
      "1\n",
      "Python\n",
      "2\n",
      "Spatial Data\n",
      "3\n",
      "Web GIS\n"
     ]
    }
   ],
   "source": [
    "x = 1\n",
    "y = \"Python\"\n",
    "x1 = 2\n",
    "y1 = \"Spatial Data\"\n",
    "_x = 3\n",
    "_y = \"Web GIS\"\n",
    "print(x)\n",
    "print(y)\n",
    "print(x1)\n",
    "print(y1)\n",
    "print(_x)\n",
    "print(_y)"
   ]
  },
  {
   "cell_type": "code",
   "execution_count": 7,
   "id": "208dc67b-2362-4ead-bad2-284be65be0a6",
   "metadata": {},
   "outputs": [
    {
     "name": "stdout",
     "output_type": "stream",
     "text": [
      "1\n",
      "2\n",
      "3\n"
     ]
    }
   ],
   "source": [
    "x, x1, _x = 1, 2, 3\n",
    "print(x)\n",
    "print(x1)\n",
    "print(_x)"
   ]
  },
  {
   "cell_type": "code",
   "execution_count": 9,
   "id": "8523c9d8-88e2-4d15-b039-d6b48a169ee1",
   "metadata": {},
   "outputs": [
    {
     "name": "stdout",
     "output_type": "stream",
     "text": [
      "2\n",
      "5\n",
      "2\n",
      "-1\n",
      "2\n",
      "6\n",
      "2\n",
      "0.6666666666666666\n",
      "2\n",
      "8\n"
     ]
    }
   ],
   "source": [
    "x = 2\n",
    "print(x)\n",
    "x += 3\n",
    "print(x)\n",
    "\n",
    "x = 2\n",
    "print(x)\n",
    "x -= 3\n",
    "print(x)\n",
    "\n",
    "x = 2\n",
    "print(x)\n",
    "x *= 3\n",
    "print(x)\n",
    "\n",
    "x = 2\n",
    "print(x)\n",
    "x /= 3\n",
    "print(x)\n",
    "\n",
    "x = 2\n",
    "print(x)\n",
    "x **= 3\n",
    "print(x)"
   ]
  },
  {
   "cell_type": "code",
   "execution_count": null,
   "id": "6c13edee-1b76-4c29-a904-807c80272a9e",
   "metadata": {},
   "outputs": [],
   "source": []
  }
 ],
 "metadata": {
  "kernelspec": {
   "display_name": "Python 3 (ipykernel)",
   "language": "python",
   "name": "python3"
  },
  "language_info": {
   "codemirror_mode": {
    "name": "ipython",
    "version": 3
   },
   "file_extension": ".py",
   "mimetype": "text/x-python",
   "name": "python",
   "nbconvert_exporter": "python",
   "pygments_lexer": "ipython3",
   "version": "3.10.9"
  }
 },
 "nbformat": 4,
 "nbformat_minor": 5
}
