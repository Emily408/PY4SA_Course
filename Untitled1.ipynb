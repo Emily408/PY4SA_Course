{
 "cells": [
  {
   "cell_type": "markdown",
   "id": "6c2d3ab3-ac82-4154-b332-45a39dbf857a",
   "metadata": {},
   "source": [
    "# **Python Basics Exercise 1**"
   ]
  },
  {
   "cell_type": "code",
   "execution_count": 5,
   "id": "946084c5-8248-4e65-b60e-4b3e060f82a0",
   "metadata": {},
   "outputs": [
    {
     "name": "stdout",
     "output_type": "stream",
     "text": [
      "86.8\n"
     ]
    }
   ],
   "source": [
    "numbers=[80,90,95,87,82]\n",
    "average=sum(numbers)/len(numbers)\n",
    "print(average)"
   ]
  },
  {
   "cell_type": "code",
   "execution_count": 26,
   "id": "31a8316a-7187-4c0c-8494-a4dd9931f059",
   "metadata": {},
   "outputs": [
    {
     "name": "stdout",
     "output_type": "stream",
     "text": [
      "30 is divisible by 3.\n"
     ]
    }
   ],
   "source": [
    "num=30\n",
    "div=3\n",
    "# using the modulus operation, if the remainder is 0, the numer is divisible by 3.\n",
    "if num%div == 0:\n",
    "    print(\"30 is divisible by 3.\")\n",
    "# if it is not 0, the number is not divisible.\n",
    "else:\n",
    "    print(\"30 is not divisible by 3.\")"
   ]
  },
  {
   "cell_type": "code",
   "execution_count": 25,
   "id": "24444d2a-dc31-48eb-a13c-8a7b54f8b0e8",
   "metadata": {},
   "outputs": [
    {
     "name": "stdout",
     "output_type": "stream",
     "text": [
      "plum is not acceptable\n"
     ]
    }
   ],
   "source": [
    "lst1=[\"apple\",\"orange\",\"pear\",\"kiwi\",\"strawberry\"]\n",
    "\n",
    "# fruit is in the list\n",
    "# using the in function\n",
    "if \"plum\" in lst1:\n",
    "    print(\"plum is acceptable\")\n",
    "\n",
    "# fruit is not in the list\n",
    "else:\n",
    "    print(\"plum is not acceptable\")"
   ]
  },
  {
   "cell_type": "code",
   "execution_count": 45,
   "id": "950b56e5-dc51-475f-89ef-0d7c3b026600",
   "metadata": {},
   "outputs": [],
   "source": [
    "# calculating distance between two coordinates using Haversine formula\n",
    "\n",
    "def haversine(coord1: object, coord2: object):\n",
    "    import math\n",
    "    \n",
    "    # coordinates in decimal degrees\n",
    "    lon1= -0.12776\n",
    "    lat1= 51.50735\n",
    "    lon2= 2.35222\n",
    "    lat2= 48.85661\n",
    "    \n",
    "    R=6371000\n",
    "    phi_1=math.radians(lat1)\n",
    "    phi_2=math.radians(lat2)\n",
    "    \n",
    "    delta_phi=math.radians(lat1 - lat2)\n",
    "    delta_lambda=math.radians(lon1 - lon2)\n",
    "    \n",
    "    a=math.sin(delta_phi / 2.0) ** 2 + math.cos(phi_1) * math.cos(phi_2) * math.sin(delta_lambda / 2.0) * 2\n",
    "    \n",
    "    c=2 * math.atan2(math.sqrt(a), math.sqrt(1-a))\n",
    "    \n",
    "    meters= R * c\n",
    "    km= m / 1000.0\n",
    "    \n",
    "    print(f\"Distance: {meters} m\")\n",
    "    print(f\"Distance: {km} km\")\n"
   ]
  },
  {
   "cell_type": "code",
   "execution_count": 77,
   "id": "8d937462-6274-4ba4-805d-6f2a4948cc75",
   "metadata": {},
   "outputs": [
    {
     "ename": "NameError",
     "evalue": "name 'atan' is not defined",
     "output_type": "error",
     "traceback": [
      "\u001b[0;31m---------------------------------------------------------------------------\u001b[0m",
      "\u001b[0;31mNameError\u001b[0m                                 Traceback (most recent call last)",
      "Cell \u001b[0;32mIn[77], line 11\u001b[0m\n\u001b[1;32m      8\u001b[0m     c \u001b[38;5;241m=\u001b[39m \u001b[38;5;241m2\u001b[39m \u001b[38;5;241m*\u001b[39m atan(sqrt(a))\n\u001b[1;32m      9\u001b[0m     r \u001b[38;5;241m*\u001b[39m c\n\u001b[0;32m---> 11\u001b[0m \u001b[38;5;28mprint\u001b[39m(\u001b[43mhaversine\u001b[49m\u001b[43m(\u001b[49m\u001b[38;5;241;43m51.50745\u001b[39;49m\u001b[43m,\u001b[49m\u001b[43m \u001b[49m\u001b[38;5;241;43m-\u001b[39;49m\u001b[38;5;241;43m0.12776\u001b[39;49m\u001b[43m,\u001b[49m\u001b[43m \u001b[49m\u001b[38;5;241;43m48.85661\u001b[39;49m\u001b[43m,\u001b[49m\u001b[43m \u001b[49m\u001b[38;5;241;43m2.35222\u001b[39;49m\u001b[43m)\u001b[49m)\n",
      "Cell \u001b[0;32mIn[77], line 8\u001b[0m, in \u001b[0;36mhaversine\u001b[0;34m(lat1, lon1, lat2, lon2)\u001b[0m\n\u001b[1;32m      6\u001b[0m lat2 \u001b[38;5;241m=\u001b[39m radians(lat2)\n\u001b[1;32m      7\u001b[0m a \u001b[38;5;241m=\u001b[39m sin(dLat \u001b[38;5;241m/\u001b[39m \u001b[38;5;241m2\u001b[39m) \u001b[38;5;241m*\u001b[39m \u001b[38;5;241m2\u001b[39m \u001b[38;5;241m+\u001b[39m cos(lat1) \u001b[38;5;241m*\u001b[39m cos(lat2) \u001b[38;5;241m*\u001b[39m sin(dLon \u001b[38;5;241m/\u001b[39m \u001b[38;5;241m2\u001b[39m) \u001b[38;5;241m*\u001b[39m \u001b[38;5;241m2\u001b[39m\n\u001b[0;32m----> 8\u001b[0m c \u001b[38;5;241m=\u001b[39m \u001b[38;5;241m2\u001b[39m \u001b[38;5;241m*\u001b[39m \u001b[43matan\u001b[49m(sqrt(a))\n\u001b[1;32m      9\u001b[0m r \u001b[38;5;241m*\u001b[39m c\n",
      "\u001b[0;31mNameError\u001b[0m: name 'atan' is not defined"
     ]
    }
   ],
   "source": [
    "def haversine(lat1,lon1,lat2, lon2):\n",
    "    r = 6371\n",
    "    dLat = radians(lat2 - lat1)\n",
    "    dLon = radians(lon2- lon1)\n",
    "    lat1 = radians(lat1)\n",
    "    lat2 = radians(lat2)\n",
    "    a = sin(dLat / 2) * 2 + cos(lat1) * cos(lat2) * sin(dLon / 2) * 2\n",
    "    c = 2 * atan(sqrt(a))\n",
    "    r * c\n",
    "    \n",
    "print(haversine(51.50745, -0.12776, 48.85661, 2.35222))\n",
    "\n"
   ]
  },
  {
   "cell_type": "code",
   "execution_count": 112,
   "id": "54bb046b-852d-4596-a67b-a95ffc33e46d",
   "metadata": {},
   "outputs": [
    {
     "ename": "NameError",
     "evalue": "name 'lon1' is not defined",
     "output_type": "error",
     "traceback": [
      "\u001b[0;31m---------------------------------------------------------------------------\u001b[0m",
      "\u001b[0;31mNameError\u001b[0m                                 Traceback (most recent call last)",
      "Cell \u001b[0;32mIn[112], line 20\u001b[0m\n\u001b[1;32m     17\u001b[0m     r \u001b[38;5;241m=\u001b[39m \u001b[38;5;241m6371\u001b[39m\n\u001b[1;32m     18\u001b[0m     \u001b[38;5;28;01mreturn\u001b[39;00m c \u001b[38;5;241m*\u001b[39m r\n\u001b[0;32m---> 20\u001b[0m \u001b[38;5;28mprint\u001b[39m(haversine(\u001b[43mlon1\u001b[49m,lat1,lon2,lat2))\n",
      "\u001b[0;31mNameError\u001b[0m: name 'lon1' is not defined"
     ]
    }
   ],
   "source": [
    "from math import radians, cos, sin, asin, sqrt, atan2\n",
    "\n",
    "def haversine(lon1,lat1,lon2,lat2):\n",
    "    lat1 = 51.50735\n",
    "    lat2 = 48.85661\n",
    "    lon1 = -0.12776\n",
    "    lon2 = 2.35222\n",
    "    \n",
    "    \n",
    "    lon1,lat1,lon2,lat2 = map(radians, [lon1,lat1,lon1,lat2])\n",
    "    \n",
    "    dlon = lon2 - lon1\n",
    "    dlar = lat2 = lat1\n",
    "    \n",
    "    a = sin(dlat/2)**2 + cos(lat1) *cos(lat2) *sin(dlon/2)**2\n",
    "    c = 2 * atan2(sqrt(a), sqrt(1-a))\n",
    "    r = 6371\n",
    "    return c * r\n",
    "\n",
    "print(haversine(lon1,lat1,lon2,lat2))\n"
   ]
  },
  {
   "cell_type": "code",
   "execution_count": null,
   "id": "4023c663-fc4b-49ea-b043-cca40b172708",
   "metadata": {},
   "outputs": [],
   "source": []
  },
  {
   "cell_type": "code",
   "execution_count": 45,
   "id": "8b532ac5-7da2-4caa-8104-b231b9c85fe7",
   "metadata": {},
   "outputs": [],
   "source": [
    "# calculating distance between two coordinates using Haversine formula\n",
    "\n",
    "def haversine(coord1: object, coord2: object):\n",
    "    import math\n",
    "    \n",
    "    # coordinates in decimal degrees\n",
    "    lon1= -0.12776\n",
    "    lat1= 51.50735\n",
    "    lon2= 2.35222\n",
    "    lat2= 48.85661\n",
    "    \n",
    "    R=6371000\n",
    "    phi_1=math.radians(lat1)\n",
    "    phi_2=math.radians(lat2)\n",
    "    \n",
    "    delta_phi=math.radians(lat1 - lat2)\n",
    "    delta_lambda=math.radians(lon1 - lon2)\n",
    "    \n",
    "    a=math.sin(delta_phi / 2.0) ** 2 + math.cos(phi_1) * math.cos(phi_2) * math.sin(delta_lambda / 2.0) * 2\n",
    "    \n",
    "    c=2 * math.atan2(math.sqrt(a), math.sqrt(1-a))\n",
    "    \n",
    "    meters= R * c\n",
    "    km= m / 1000.0\n",
    "    \n",
    "    print(f\"Distance: {meters} m\")\n",
    "    print(f\"Distance: {km} km\")\n"
   ]
  },
  {
   "cell_type": "code",
   "execution_count": 105,
   "id": "7b05f243-edbb-482a-9287-ef5d837089cc",
   "metadata": {},
   "outputs": [
    {
     "ename": "SyntaxError",
     "evalue": "invalid syntax (1753259640.py, line 10)",
     "output_type": "error",
     "traceback": [
      "\u001b[0;36m  Cell \u001b[0;32mIn[105], line 10\u001b[0;36m\u001b[0m\n\u001b[0;31m    function calculate_spherical_distance(lat1, lon1, lat2, lon2, r=6371):\u001b[0m\n\u001b[0m             ^\u001b[0m\n\u001b[0;31mSyntaxError\u001b[0m\u001b[0;31m:\u001b[0m invalid syntax\n"
     ]
    }
   ],
   "source": [
    "import numpy as np\n",
    "import pandas as pd\n",
    "from math import radians, cos, sin, asin, acos, sqrt, pi\n",
    "\n",
    "from geopy import distance\n",
    "from geopy.decoders import Nominatim\n",
    "import osmnx as ox\n",
    "import networkx as nx\n",
    "def calculate_spherical_distance(lat1, lon1, lat2, lon2, r=6371):\n",
    "    \n",
    "    lat1, lon1 = 51.50735, -0.12776\n",
    "    lat2, lon2 = 48.85661, 2.35222\n",
    "    radius = 6371\n",
    "    \n",
    "    coordinates = lat1, lon1, lat2, lon2\n",
    "    phil, lambdal, phi2, lambda2 = [radians(c) for c in coordinates]\n",
    "    \n",
    "    a = (np.square(sin((phi2-phi1)/2)) + cos(phi1) * cos(phi2)\n",
    "         \n",
    "         np.square(sin((lambda2-lambda1)/2)))\n",
    "    d = 2*r*asin(np.sqrt(a))\n",
    "    return d\n",
    "\n",
    "print (f\"[calculate_spherical_distance(lat1, lon1, lat2, lon2):.4f] km\")\n",
    "    \n",
    "    "
   ]
  },
  {
   "cell_type": "code",
   "execution_count": null,
   "id": "eba98a49-c05a-4550-8a82-787bbd8054e7",
   "metadata": {},
   "outputs": [],
   "source": []
  },
  {
   "cell_type": "code",
   "execution_count": null,
   "id": "708b5e2d-b4b6-44bf-86c9-406ca79bf5e5",
   "metadata": {},
   "outputs": [],
   "source": []
  }
 ],
 "metadata": {
  "kernelspec": {
   "display_name": "Python 3 (ipykernel)",
   "language": "python",
   "name": "python3"
  },
  "language_info": {
   "codemirror_mode": {
    "name": "ipython",
    "version": 3
   },
   "file_extension": ".py",
   "mimetype": "text/x-python",
   "name": "python",
   "nbconvert_exporter": "python",
   "pygments_lexer": "ipython3",
   "version": "3.10.9"
  }
 },
 "nbformat": 4,
 "nbformat_minor": 5
}
